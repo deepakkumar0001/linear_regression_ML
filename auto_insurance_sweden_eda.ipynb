{
 "cells": [
  {
   "cell_type": "code",
   "execution_count": 1,
   "id": "72868477",
   "metadata": {},
   "outputs": [],
   "source": [
    "import pandas as pd\n",
    "import numpy as np\n",
    "import matplotlib.pyplot as plt\n",
    "import seaborn as sns\n",
    "import statsmodels.api as sm\n",
    "from sklearn.linear_model import LinearRegression\n",
    "from sklearn.model_selection import train_test_split"
   ]
  },
  {
   "cell_type": "markdown",
   "id": "67efd35b",
   "metadata": {},
   "source": [
    "### Loading The Dataset "
   ]
  },
  {
   "cell_type": "code",
   "execution_count": 2,
   "id": "689a01da",
   "metadata": {},
   "outputs": [],
   "source": [
    "df=pd.read_csv(\"auto_insurance_sweden.csv\")"
   ]
  },
  {
   "cell_type": "markdown",
   "id": "28d09ceb",
   "metadata": {},
   "source": [
    "### Renaming The Column Name"
   ]
  },
  {
   "cell_type": "code",
   "execution_count": 3,
   "id": "44e76883",
   "metadata": {},
   "outputs": [],
   "source": [
    "df.rename(columns={\"108\":\"x\",\"392.5\":\"y\"},inplace=True)"
   ]
  },
  {
   "cell_type": "code",
   "execution_count": 4,
   "id": "a642b459",
   "metadata": {},
   "outputs": [
    {
     "data": {
      "text/html": [
       "<div>\n",
       "<style scoped>\n",
       "    .dataframe tbody tr th:only-of-type {\n",
       "        vertical-align: middle;\n",
       "    }\n",
       "\n",
       "    .dataframe tbody tr th {\n",
       "        vertical-align: top;\n",
       "    }\n",
       "\n",
       "    .dataframe thead th {\n",
       "        text-align: right;\n",
       "    }\n",
       "</style>\n",
       "<table border=\"1\" class=\"dataframe\">\n",
       "  <thead>\n",
       "    <tr style=\"text-align: right;\">\n",
       "      <th></th>\n",
       "      <th>x</th>\n",
       "      <th>y</th>\n",
       "    </tr>\n",
       "  </thead>\n",
       "  <tbody>\n",
       "    <tr>\n",
       "      <th>0</th>\n",
       "      <td>19</td>\n",
       "      <td>46.2</td>\n",
       "    </tr>\n",
       "    <tr>\n",
       "      <th>1</th>\n",
       "      <td>13</td>\n",
       "      <td>15.7</td>\n",
       "    </tr>\n",
       "    <tr>\n",
       "      <th>2</th>\n",
       "      <td>124</td>\n",
       "      <td>422.2</td>\n",
       "    </tr>\n",
       "    <tr>\n",
       "      <th>3</th>\n",
       "      <td>40</td>\n",
       "      <td>119.4</td>\n",
       "    </tr>\n",
       "    <tr>\n",
       "      <th>4</th>\n",
       "      <td>57</td>\n",
       "      <td>170.9</td>\n",
       "    </tr>\n",
       "    <tr>\n",
       "      <th>...</th>\n",
       "      <td>...</td>\n",
       "      <td>...</td>\n",
       "    </tr>\n",
       "    <tr>\n",
       "      <th>57</th>\n",
       "      <td>9</td>\n",
       "      <td>87.4</td>\n",
       "    </tr>\n",
       "    <tr>\n",
       "      <th>58</th>\n",
       "      <td>31</td>\n",
       "      <td>209.8</td>\n",
       "    </tr>\n",
       "    <tr>\n",
       "      <th>59</th>\n",
       "      <td>14</td>\n",
       "      <td>95.5</td>\n",
       "    </tr>\n",
       "    <tr>\n",
       "      <th>60</th>\n",
       "      <td>53</td>\n",
       "      <td>244.6</td>\n",
       "    </tr>\n",
       "    <tr>\n",
       "      <th>61</th>\n",
       "      <td>26</td>\n",
       "      <td>187.5</td>\n",
       "    </tr>\n",
       "  </tbody>\n",
       "</table>\n",
       "<p>62 rows × 2 columns</p>\n",
       "</div>"
      ],
      "text/plain": [
       "      x      y\n",
       "0    19   46.2\n",
       "1    13   15.7\n",
       "2   124  422.2\n",
       "3    40  119.4\n",
       "4    57  170.9\n",
       "..  ...    ...\n",
       "57    9   87.4\n",
       "58   31  209.8\n",
       "59   14   95.5\n",
       "60   53  244.6\n",
       "61   26  187.5\n",
       "\n",
       "[62 rows x 2 columns]"
      ]
     },
     "execution_count": 4,
     "metadata": {},
     "output_type": "execute_result"
    }
   ],
   "source": [
    "df"
   ]
  },
  {
   "cell_type": "markdown",
   "id": "d46b8f38",
   "metadata": {},
   "source": [
    "### Dataset Cleaning "
   ]
  },
  {
   "cell_type": "code",
   "execution_count": 5,
   "id": "0f566d18",
   "metadata": {},
   "outputs": [
    {
     "name": "stdout",
     "output_type": "stream",
     "text": [
      "<class 'pandas.core.frame.DataFrame'>\n",
      "RangeIndex: 62 entries, 0 to 61\n",
      "Data columns (total 2 columns):\n",
      " #   Column  Non-Null Count  Dtype  \n",
      "---  ------  --------------  -----  \n",
      " 0   x       62 non-null     int64  \n",
      " 1   y       62 non-null     float64\n",
      "dtypes: float64(1), int64(1)\n",
      "memory usage: 1.1 KB\n"
     ]
    }
   ],
   "source": [
    "df.info()"
   ]
  },
  {
   "cell_type": "code",
   "execution_count": 6,
   "id": "ac1448a4",
   "metadata": {},
   "outputs": [
    {
     "data": {
      "text/plain": [
       "x    0\n",
       "y    0\n",
       "dtype: int64"
      ]
     },
     "execution_count": 6,
     "metadata": {},
     "output_type": "execute_result"
    }
   ],
   "source": [
    "df.isnull().sum()"
   ]
  },
  {
   "cell_type": "code",
   "execution_count": 7,
   "id": "7d75e312",
   "metadata": {},
   "outputs": [
    {
     "data": {
      "text/plain": [
       "0"
      ]
     },
     "execution_count": 7,
     "metadata": {},
     "output_type": "execute_result"
    }
   ],
   "source": [
    "df.duplicated().sum()"
   ]
  },
  {
   "cell_type": "markdown",
   "id": "d4b08b06",
   "metadata": {},
   "source": [
    "### Describing Label & Feature "
   ]
  },
  {
   "cell_type": "code",
   "execution_count": 8,
   "id": "f4eff503",
   "metadata": {},
   "outputs": [],
   "source": [
    "x=df.x"
   ]
  },
  {
   "cell_type": "code",
   "execution_count": 9,
   "id": "03614fcc",
   "metadata": {},
   "outputs": [],
   "source": [
    "y=df.y"
   ]
  },
  {
   "cell_type": "markdown",
   "id": "26cfead1",
   "metadata": {},
   "source": [
    "### Splitting Dataset For Training And Testing"
   ]
  },
  {
   "cell_type": "code",
   "execution_count": 10,
   "id": "17894c00",
   "metadata": {},
   "outputs": [],
   "source": [
    "x_train,x_test,y_train,y_test=train_test_split(x,y,test_size=0.2)"
   ]
  },
  {
   "cell_type": "code",
   "execution_count": 11,
   "id": "a581edc0",
   "metadata": {},
   "outputs": [
    {
     "data": {
      "text/plain": [
       "array([[ 10],\n",
       "       [ 23],\n",
       "       [ 15],\n",
       "       [ 13],\n",
       "       [ 11],\n",
       "       [  6],\n",
       "       [ 16],\n",
       "       [  3],\n",
       "       [ 30],\n",
       "       [ 13],\n",
       "       [ 31],\n",
       "       [ 61],\n",
       "       [  0],\n",
       "       [  9],\n",
       "       [ 29],\n",
       "       [ 27],\n",
       "       [  6],\n",
       "       [ 41],\n",
       "       [ 53],\n",
       "       [  4],\n",
       "       [ 11],\n",
       "       [  5],\n",
       "       [ 48],\n",
       "       [ 25],\n",
       "       [ 60],\n",
       "       [  7],\n",
       "       [  3],\n",
       "       [ 22],\n",
       "       [ 13],\n",
       "       [  5],\n",
       "       [ 40],\n",
       "       [  2],\n",
       "       [ 41],\n",
       "       [ 17],\n",
       "       [  7],\n",
       "       [ 14],\n",
       "       [ 19],\n",
       "       [ 23],\n",
       "       [  6],\n",
       "       [  8],\n",
       "       [ 24],\n",
       "       [ 29],\n",
       "       [ 23],\n",
       "       [ 20],\n",
       "       [ 13],\n",
       "       [124],\n",
       "       [ 37],\n",
       "       [ 24],\n",
       "       [ 45]], dtype=int64)"
      ]
     },
     "execution_count": 11,
     "metadata": {},
     "output_type": "execute_result"
    }
   ],
   "source": [
    "x1=x_train.to_numpy().reshape(-1,1)\n",
    "x1"
   ]
  },
  {
   "cell_type": "markdown",
   "id": "34715c8a",
   "metadata": {},
   "source": [
    "### Creating Linear Regression Model"
   ]
  },
  {
   "cell_type": "code",
   "execution_count": 12,
   "id": "b3ab1ab3",
   "metadata": {},
   "outputs": [],
   "source": [
    "model=LinearRegression()"
   ]
  },
  {
   "cell_type": "code",
   "execution_count": 13,
   "id": "3bd7d95a",
   "metadata": {},
   "outputs": [],
   "source": [
    "result=model.fit(x1,y_train)"
   ]
  },
  {
   "cell_type": "code",
   "execution_count": 14,
   "id": "f4b27f77",
   "metadata": {},
   "outputs": [
    {
     "data": {
      "text/plain": [
       "array([3.48154259])"
      ]
     },
     "execution_count": 14,
     "metadata": {},
     "output_type": "execute_result"
    }
   ],
   "source": [
    "result.coef_"
   ]
  },
  {
   "cell_type": "code",
   "execution_count": 15,
   "id": "e7b1010a",
   "metadata": {},
   "outputs": [
    {
     "data": {
      "text/plain": [
       "19.2264994345598"
      ]
     },
     "execution_count": 15,
     "metadata": {},
     "output_type": "execute_result"
    }
   ],
   "source": [
    "result.intercept_"
   ]
  },
  {
   "cell_type": "markdown",
   "id": "304ec9ae",
   "metadata": {},
   "source": [
    "### Prediction Of Model Using Testing Dataset"
   ]
  },
  {
   "cell_type": "code",
   "execution_count": 16,
   "id": "b8896210",
   "metadata": {},
   "outputs": [],
   "source": [
    "y_predict=result.predict(x_test.to_numpy().reshape(-1,1))"
   ]
  },
  {
   "cell_type": "code",
   "execution_count": 17,
   "id": "6d8c9886",
   "metadata": {},
   "outputs": [
    {
     "data": {
      "text/plain": [
       "array([210.71134175,  61.00501049,  33.15266978,  57.5234679 ,\n",
       "        47.07884013,  33.15266978,  29.6711272 ,  67.96809566,\n",
       "        43.59729755,  50.56038272, 217.67442692,  50.56038272,\n",
       "       109.74660671])"
      ]
     },
     "execution_count": 17,
     "metadata": {},
     "output_type": "execute_result"
    }
   ],
   "source": [
    "y_predict"
   ]
  },
  {
   "cell_type": "markdown",
   "id": "b1bcc50e",
   "metadata": {},
   "source": [
    "### Accuracy of Model"
   ]
  },
  {
   "cell_type": "code",
   "execution_count": 18,
   "id": "f05dd527",
   "metadata": {},
   "outputs": [],
   "source": [
    "accuracy=result.score(x_test.to_numpy().reshape(-1,1),y_test)*100"
   ]
  },
  {
   "cell_type": "code",
   "execution_count": 19,
   "id": "144d717c",
   "metadata": {},
   "outputs": [
    {
     "data": {
      "text/plain": [
       "70.14891202831063"
      ]
     },
     "execution_count": 19,
     "metadata": {},
     "output_type": "execute_result"
    }
   ],
   "source": [
    "accuracy"
   ]
  },
  {
   "cell_type": "markdown",
   "id": "6d66fc0b",
   "metadata": {},
   "source": [
    "**Root Mean Square Error**"
   ]
  },
  {
   "cell_type": "code",
   "execution_count": 22,
   "id": "f712864d",
   "metadata": {},
   "outputs": [
    {
     "name": "stdout",
     "output_type": "stream",
     "text": [
      "32.60940935283388\n"
     ]
    }
   ],
   "source": [
    "from sklearn import metrics\n",
    "print(np.sqrt(metrics.mean_squared_error(y_test, y_predict)))"
   ]
  },
  {
   "cell_type": "markdown",
   "id": "2af16be3",
   "metadata": {},
   "source": [
    "### Result Using Graph"
   ]
  },
  {
   "cell_type": "markdown",
   "id": "95f90c2c",
   "metadata": {},
   "source": [
    "#### Training"
   ]
  },
  {
   "cell_type": "code",
   "execution_count": 29,
   "id": "70eabf88",
   "metadata": {},
   "outputs": [
    {
     "data": {
      "image/png": "[encoded data removed]",
      "text/plain": [
       "<Figure size 432x288 with 1 Axes>"
      ]
     },
     "metadata": {
      "needs_background": "light"
     },
     "output_type": "display_data"
    }
   ],
   "source": [
    "plt.scatter(x_train,y_train)\n",
    "yhat=result.coef_*x_train.values.reshape(-1,1)+result.intercept_\n",
    "fig=plt.plot(x_train,yhat,lw=4,c=\"orange\",label=\"regression line\")\n",
    "plt.xlabel(\"x\",fontsize=20)\n",
    "plt.ylabel(\"y\",fontsize=20)\n",
    "plt.show()"
   ]
  },
  {
   "cell_type": "markdown",
   "id": "a6abf844",
   "metadata": {},
   "source": [
    "#### Testing"
   ]
  },
  {
   "cell_type": "code",
   "execution_count": 35,
   "id": "43c21fc0",
   "metadata": {
    "scrolled": true
   },
   "outputs": [
    {
     "data": {
      "image/png": "[encoded data removed]",
      "text/plain": [
       "<Figure size 432x288 with 1 Axes>"
      ]
     },
     "metadata": {
      "needs_background": "light"
     },
     "output_type": "display_data"
    }
   ],
   "source": [
    "plt.scatter(x_test,y_test)\n",
    "yhat1=result.coef_*x_test.values.reshape(-1,1)+result.intercept_\n",
    "fig=plt.plot(x_test,yhat1,lw=4,c=\"orange\",label=\"regression line\")\n",
    "plt.xlabel(\"x\",fontsize=20,c=\"black\")\n",
    "plt.ylabel(\"y\",fontsize=20,c=\"black\")\n",
    "plt.show()"
   ]
  }
 ],
 "metadata": {
  "kernelspec": {
   "display_name": "Python 3 (ipykernel)",
   "language": "python",
   "name": "python3"
  },
  "language_info": {
   "codemirror_mode": {
    "name": "ipython",
    "version": 3
   },
   "file_extension": ".py",
   "mimetype": "text/x-python",
   "name": "python",
   "nbconvert_exporter": "python",
   "pygments_lexer": "ipython3",
   "version": "3.9.7"
  }
 },
 "nbformat": 4,
 "nbformat_minor": 5
}
